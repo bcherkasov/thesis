{
 "cells": [
  {
   "cell_type": "markdown",
   "id": "811cce66-8d8a-47bd-b05c-75c6166ea9d4",
   "metadata": {},
   "source": [
    "$$ Z_{min} = C_1 \\cdot Q_1 + C_2 \\cdot Q_2 + \\text{...} + \\, C_i \\cdot Q_i = \\sum_{i=0}^{k} C_i \\cdot Q_i  \\hspace{0.2cm} \\text{, subject to:} $$ "
   ]
  },
  {
   "cell_type": "markdown",
   "id": "2032bc5d-0efa-4ca3-9c7e-428c48c4b3d5",
   "metadata": {},
   "source": [
    "$$ \\overline{C_3H_{8_1}} \\cdot Q_1 + \\overline{C_3H_{8_2}} \\cdot Q_2 + \\text{...} + \\overline{C_3H_{8_i}} \\cdot Q_i \\leq C_3H_{8_\\text{max}} \\cdot Q_{\\text{max}}$$"
   ]
  },
  {
   "cell_type": "markdown",
   "id": "66250fe3-0b1f-4375-8542-8e0648212631",
   "metadata": {},
   "source": [
    "$$ \\overline{C_4H_{10_1}} \\cdot Q_1 + \\overline{C_4H_{10_2}} \\cdot Q_2 + \\text{...} + \\overline{C_4H_{10_i}} \\cdot Q_i \\leq C_4H_{10_\\text{max}} \\cdot Q_{\\text{max}}$$"
   ]
  },
  {
   "cell_type": "markdown",
   "id": "0b4e7960-3144-49d0-9dab-baf650e46376",
   "metadata": {},
   "source": [
    "$$ \\overline{S_{\\text{content}_1}} \\cdot Q_1 + \\overline{S_{\\text{content}_2}} \\cdot Q_2 + \\text{...} + \\overline{S_{\\text{content}_i}} \\cdot Q_i \\leq S_{\\text{content}_{\\text{max}}} \\cdot Q_{\\text{max}}$$"
   ]
  },
  {
   "cell_type": "markdown",
   "id": "0ea4c8d5-519d-4b57-bf79-15f7d1cc3535",
   "metadata": {},
   "source": [
    "$$ Q_1 + Q_2 + \\text{...} + Q_i = Q_{\\text{max}} $$"
   ]
  },
  {
   "cell_type": "markdown",
   "id": "0cb67664-5155-473d-95b3-3dc0633fd3d7",
   "metadata": {},
   "source": [
    "$$ Q_i \\geq 0 $$"
   ]
  },
  {
   "cell_type": "markdown",
   "id": "b616005e-4c1c-4a98-a3ca-adfa17f9f926",
   "metadata": {},
   "source": [
    "$$ \\overline{C_2H_{6_1}} \\cdot Q_1 + \\overline{C_2H_{6_2}} \\cdot Q_2 + \\text{...} + \\overline{C_2H_{6_i}} \\cdot Q_i \\leq C_2H_{6_\\text{max}} \\cdot Q_{\\text{max}}$$"
   ]
  },
  {
   "cell_type": "markdown",
   "id": "09a73b9f-1d45-4b2d-8bab-ad845c9b9109",
   "metadata": {},
   "source": [
    "$$ \\overline{C_2H_{4_1}} \\cdot Q_1 + \\overline{C_2H_{4_2}} \\cdot Q_2 + \\text{...} + \\overline{C_2H_{4_i}} \\cdot Q_i \\leq C_2H_{4_\\text{max}} \\cdot Q_{\\text{max}}$$"
   ]
  },
  {
   "cell_type": "markdown",
   "id": "c42534a1-7989-44e1-947c-475f13515c32",
   "metadata": {},
   "source": [
    "$$ \\overline{C_3H_{6_1}} \\cdot Q_1 + \\overline{C_3H_{6_2}} \\cdot Q_2 + \\text{...} + \\overline{C_3H_{6_i}} \\cdot Q_i \\leq C_3H_{6_\\text{max}} \\cdot Q_{\\text{max}}$$"
   ]
  },
  {
   "cell_type": "markdown",
   "id": "23fcfc51-3664-487c-b5b3-23ccf3dc2052",
   "metadata": {},
   "source": [
    "$$ \\overline{C_4H_{6_1}} \\cdot Q_1 + \\overline{C_4H_{6_2}} \\cdot Q_2 + \\text{...} + \\overline{C_4H_{6_i}} \\cdot Q_i \\leq C_4H_{6_\\text{max}} \\cdot Q_{\\text{max}}$$"
   ]
  },
  {
   "cell_type": "markdown",
   "id": "4b8b3f02-e4ac-43c2-b669-802c9bcb5836",
   "metadata": {},
   "source": [
    "$$ \\overline{C_5H_{12_1}} \\cdot Q_1 + \\overline{C_5H_{12_2}} \\cdot Q_2 + \\text{...} + \\overline{C_5H_{12_i}} \\cdot Q_i \\leq C_5H_{12_\\text{max}} \\cdot Q_{\\text{max}}$$"
   ]
  },
  {
   "cell_type": "markdown",
   "id": "414f115a-7930-4db6-a9d7-34b91d2d99d9",
   "metadata": {},
   "source": [
    "$$ dS = \\mu Sdt + \\sigma SdW $$"
   ]
  },
  {
   "cell_type": "markdown",
   "id": "dfeb7b3a-b978-4483-9ee0-a368fcd82027",
   "metadata": {},
   "source": [
    "$$ \\mu \\in \\mathbb{R} $$"
   ]
  },
  {
   "cell_type": "markdown",
   "id": "d59b803c-5740-4a4b-80eb-ba193c77f259",
   "metadata": {},
   "source": [
    "$$ \\sigma \\in (0, \\infty) $$"
   ]
  },
  {
   "cell_type": "markdown",
   "id": "16b09aaf-0847-4afd-b2a6-a3bdab0d9a39",
   "metadata": {},
   "source": [
    "$$ S_t = S_0 \\cdot e^{\\mu-\\frac{\\sigma^2}{2}t + \\sigma W_t} $$"
   ]
  },
  {
   "cell_type": "markdown",
   "id": "c67568d5-becd-4f51-9121-28f1fc7b407f",
   "metadata": {},
   "source": [
    "$$ S_t = S_0 \\cdot e^{(\\mu+\\frac{1}{2}\\sigma^2) \\cdot t + \\sigma \\cdot W_t} $$"
   ]
  },
  {
   "cell_type": "code",
   "execution_count": null,
   "id": "dc53eb1d-a15c-4195-bfbb-a46b5b38c0eb",
   "metadata": {},
   "outputs": [],
   "source": []
  }
 ],
 "metadata": {
  "kernelspec": {
   "display_name": "Python 3 (ipykernel)",
   "language": "python",
   "name": "python3"
  },
  "language_info": {
   "codemirror_mode": {
    "name": "ipython",
    "version": 3
   },
   "file_extension": ".py",
   "mimetype": "text/x-python",
   "name": "python",
   "nbconvert_exporter": "python",
   "pygments_lexer": "ipython3",
   "version": "3.9.7"
  }
 },
 "nbformat": 4,
 "nbformat_minor": 5
}
